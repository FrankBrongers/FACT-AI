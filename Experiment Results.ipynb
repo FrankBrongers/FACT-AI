{
 "cells": [
  {
   "cell_type": "markdown",
   "metadata": {},
   "source": [
    "# Towards Visually Explaining Variational Autoencoders\n",
    "To run this notebook, activate the conda environment via the environment.yml file and start jupyter notebook within this environmnent. "
   ]
  },
  {
   "cell_type": "markdown",
   "metadata": {},
   "source": [
    "## MNIST Anomaly Detection"
   ]
  },
  {
   "cell_type": "code",
   "execution_count": 10,
   "metadata": {
    "scrolled": true
   },
   "outputs": [
    {
     "name": "stdout",
     "output_type": "stream",
     "text": [
      "using device cuda\n",
      "layer issss encoder.2\n",
      "AUC: nan Best threshold: 0.0\n",
      "\n",
      "IPython CPU timings (estimated):\n",
      "  User   :       8.80 s.\n",
      "  System :       1.16 s.\n",
      "Wall time:       7.57 s.\n"
     ]
    },
    {
     "name": "stderr",
     "output_type": "stream",
     "text": [
      "/home/vivien/FACT-AI/code/test_expVAE.py:179: RuntimeWarning: invalid value encountered in double_scalars\n",
      "  TPR = TP / (TP + FN)\n"
     ]
    }
   ],
   "source": [
    "run -t code/test_expVAE.py --dataset=mnist --model=vanilla --batch_size=32 --model_path='./ckpt/vanilla_best.pth' --target='encoder.2'"
   ]
  },
  {
   "cell_type": "markdown",
   "metadata": {},
   "source": [
    "## USCD-Ped1 Anomaly Detection"
   ]
  },
  {
   "cell_type": "code",
   "execution_count": null,
   "metadata": {},
   "outputs": [],
   "source": [
    "run code/test_expVAE.py --dataset=ucsd-ped --model=vanilla_ped1 --batch_size=32 --model_path='./ckpt/vanilla_ped1_best.pth' --target='encoder.2'"
   ]
  },
  {
   "cell_type": "markdown",
   "metadata": {},
   "source": [
    "## MVTec Anomaly Detection"
   ]
  },
  {
   "cell_type": "code",
   "execution_count": null,
   "metadata": {},
   "outputs": [],
   "source": [
    "run code/test_expVAE.py --dataset=mvtec --model=resnet18 --batch_size=2 --model_path='./ckpt/resnet18_best.pth' --target='?'"
   ]
  },
  {
   "cell_type": "markdown",
   "metadata": {},
   "source": [
    "## dSprite Latent Space Disentanglement"
   ]
  },
  {
   "cell_type": "code",
   "execution_count": null,
   "metadata": {},
   "outputs": [],
   "source": []
  }
 ],
 "metadata": {
  "kernelspec": {
   "display_name": "Python 3",
   "language": "python",
   "name": "python3"
  },
  "language_info": {
   "codemirror_mode": {
    "name": "ipython",
    "version": 3
   },
   "file_extension": ".py",
   "mimetype": "text/x-python",
   "name": "python",
   "nbconvert_exporter": "python",
   "pygments_lexer": "ipython3",
   "version": "3.8.5"
  }
 },
 "nbformat": 4,
 "nbformat_minor": 4
}
